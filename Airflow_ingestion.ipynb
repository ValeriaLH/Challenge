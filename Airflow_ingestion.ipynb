{
 "cells": [
  {
   "cell_type": "code",
   "execution_count": 1,
   "id": "b19a95bb",
   "metadata": {},
   "outputs": [
    {
     "name": "stderr",
     "output_type": "stream",
     "text": [
      "WARNING:root:OSError while attempting to symlink the latest log directory\n"
     ]
    }
   ],
   "source": [
    "from datetime import datetime, timedelta\n",
    "from airflow import DAG\n",
    "from airflow.operators.python import PythonOperator"
   ]
  },
  {
   "cell_type": "code",
   "execution_count": 2,
   "id": "c50ba0a4",
   "metadata": {},
   "outputs": [],
   "source": [
    "# Definir la función que realiza la ingestión de datos\n",
    "def ingest_data():\n",
    "    # Se escribe el código que realiza la ingestión de datos\n",
    "    import Code_challenge.ipynb\n",
    "    "
   ]
  },
  {
   "cell_type": "code",
   "execution_count": 3,
   "id": "7f3bf964",
   "metadata": {},
   "outputs": [],
   "source": [
    "# Definir los argumentos de la DAG\n",
    "default_args = {\n",
    "    'owner': 'Valeria',\n",
    "    'start_date': datetime(2023, 10, 15),  # Fecha de inicio\n",
    "    'retries': 1,\n",
    "    'retry_delay': timedelta(minutes=5),\n",
    "}"
   ]
  },
  {
   "cell_type": "code",
   "execution_count": 5,
   "id": "eceee76a",
   "metadata": {},
   "outputs": [],
   "source": [
    "# Se crea la instancia de la DAG\n",
    "dag = DAG(\n",
    "    'data_ingestion_workflow',\n",
    "    default_args=default_args,\n",
    "    schedule=timedelta(days=1),  # Se programa para cada 24 horas\n",
    ")"
   ]
  },
  {
   "cell_type": "code",
   "execution_count": 6,
   "id": "f19f482f",
   "metadata": {},
   "outputs": [],
   "source": [
    "# Se define el operador para la tarea de ingestión\n",
    "ingest_data_task = PythonOperator(\n",
    "    task_id='ingest_data_task',\n",
    "    python_callable=ingest_data,\n",
    "    dag=dag,\n",
    ")"
   ]
  },
  {
   "cell_type": "code",
   "execution_count": 7,
   "id": "2f9fd070",
   "metadata": {},
   "outputs": [
    {
     "data": {
      "text/plain": [
       "<Task(PythonOperator): ingest_data_task>"
      ]
     },
     "execution_count": 7,
     "metadata": {},
     "output_type": "execute_result"
    }
   ],
   "source": [
    "# Se ejecuta la tarea de ingestión\n",
    "ingest_data_task"
   ]
  },
  {
   "cell_type": "code",
   "execution_count": null,
   "id": "ef5e03d0",
   "metadata": {},
   "outputs": [],
   "source": []
  }
 ],
 "metadata": {
  "kernelspec": {
   "display_name": "Python 3 (ipykernel)",
   "language": "python",
   "name": "python3"
  },
  "language_info": {
   "codemirror_mode": {
    "name": "ipython",
    "version": 3
   },
   "file_extension": ".py",
   "mimetype": "text/x-python",
   "name": "python",
   "nbconvert_exporter": "python",
   "pygments_lexer": "ipython3",
   "version": "3.10.9"
  },
  "toc": {
   "base_numbering": 1,
   "nav_menu": {},
   "number_sections": true,
   "sideBar": true,
   "skip_h1_title": false,
   "title_cell": "Table of Contents",
   "title_sidebar": "Contents",
   "toc_cell": false,
   "toc_position": {},
   "toc_section_display": true,
   "toc_window_display": false
  }
 },
 "nbformat": 4,
 "nbformat_minor": 5
}
